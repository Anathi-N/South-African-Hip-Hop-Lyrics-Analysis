{
 "cells": [
  {
   "cell_type": "code",
   "execution_count": 1,
   "metadata": {},
   "outputs": [],
   "source": [
    "from bs4 import BeautifulSoup\n",
    "import requests\n",
    "import re"
   ]
  },
  {
   "cell_type": "code",
   "execution_count": 19,
   "metadata": {},
   "outputs": [],
   "source": [
    "def url_to_lyrics (url):\n",
    "     '''Returns lyrics data specifically from genius.com.'''\n",
    "     page = requests.get(url).text\n",
    "     soup = BeautifulSoup(page, \"lxml\")\n",
    "     text = [p.text for p in soup.find_all('div', class_='lyrics')]\n",
    "     print(url)\n",
    "     return text\n",
    "\n",
    "urls = ['https://genius.com/A-reece-paradise-lyrics/','https://genius.com/Nasty-c-hell-naw-lyrics/',\n",
    "        'https://genius.com/Yugen-blakrok-picture-box-lyrics/','https://genius.com/Stogie-t-ptsd-lyrics/']\n",
    "\n",
    "artist_name=['a_reece','nasty_c','yugen_blakrok', 'stogie_t']\n"
   ]
  },
  {
   "cell_type": "code",
   "execution_count": 22,
   "metadata": {},
   "outputs": [
    {
     "name": "stdout",
     "output_type": "stream",
     "text": [
      "https://genius.com/A-reece-paradise-lyrics/\n",
      "https://genius.com/Nasty-c-hell-naw-lyrics/\n",
      "https://genius.com/Yugen-blakrok-picture-box-lyrics/\n",
      "https://genius.com/Stogie-t-ptsd-lyrics/\n"
     ]
    }
   ],
   "source": [
    "#request the lyrics\n",
    "lyrics = [url_to_lyrics(u) for u in urls]"
   ]
  },
  {
   "cell_type": "code",
   "execution_count": 23,
   "metadata": {},
   "outputs": [
    {
     "name": "stdout",
     "output_type": "stream",
     "text": [
      "[[\"\\n\\n[Refrain]\\nRolling up a 8th like every day and Ma don't even know it\\nHella sick but all we sip is medication with the soda\\nSo much of it\\nThat I'm unfamiliar with being sober\\nFucking women who complain about my age because they older\\nI can't afford to pull up on my own\\nI need my soldiers\\nI can't pull up and leave the store before meeting the owner\\nI can't afford to pull up on my own\\nI need my soldiers\\nI can't pull up and leave the store before meeting the owner\\n\\n[Hook]\\nWhat a life\\nParadise\\nSaucing through the day and keep it drippin\\nCome alive\\nIn the Night\\nSentsane re le bale ba Pitori no lie\\nI'm so high\\nEvery time I close my eyes I end up screaming\\nWhat a life\\nParadise\\nWhat a time\\n\\n[Verse 1]\\nI'm living in a future I predicted somewhere back in 2011\\nWatching BET and KOTD practicing and prepping\\nWhat a dream\\nLook how I maneuver through the pressure\\nLook how they allude me to a legend\\nKnow how fearless Jody told your ass that Imma do it better\\nBack to Back yeah he's singing kinda rapper\\nThey can never put me in a box or under they umbrella\\nThey specific with the seasons I go hard from January to December\\nWhat a team..\\nAmbitiouz Entertainment till forever\\nIronic how this label got me feeling independent\\nI'm sorry but how we are always winning its intended\\nI'm paranoid, it feels like all these niggas want us dead\\nAnd now I\\nCan't afford to pull up on my own\\nI need my soldiers\\nI can't pull up and leave the store before meeting the owner\\nCan't afford to pull up on my own\\nI need my soldiers\\nI can't pull up and leave the store before meeting the owner\\n\\n[Hook]\\nWhat a life\\nParadise\\nSaucing through the day and keep it drippin\\nCome alive\\nIn the Night\\nSentsane re le bale ba Pitori no lie\\nI'm so high\\nEvery time I close my eyes I end up screaming\\nWhat a life\\nParadise\\nWhat a time\\n\\n[Verse 2]\\nI'm living in the present moment thinking bout my future e-n-deavors\\nBest believe that it'll happen if I said it on the record\\nPardon me\\nI really hope you understand the message\\nMy verses are all value buyers use this shit as leverage\\nAlways quick to move cause I was told its now or never\\nIf the weather ever changes then my reign has elevated\\nWhat a scene\\nPull up knowing that I'm highly favoured\\nLife is different here's a list of what I do from day to day\\n\\n[Refrain]\\nI'm rolling up a 8th like every day\\nMa don't even know\\nHardly sick but all we sip is medication with the soda\\nSo much of it\\nI'm unfamiliar with being sober\\nFucking women who complain about my age because they older\\nI can't afford to pull up on my own\\nI need my soldiers\\nI can't pull up and leave the store before meeting the owner\\nI can't afford to pull up on my own\\nI need my soldiers\\nI can't pull up and leave the store before meeting the owner\\n\\n[Hook]\\nWhat a life\\nParadise\\nSaucing through the day and keep it drippin\\nCome alive\\nIn the Night\\nSentsane re le bale ba Pitori no lie\\nI'm so high\\nEvery time I close my eyes I end up screaming\\nWhat a life\\nParadise\\nWhat a time\\n\\n[Verse 3]\\nI could have changed the flow but I thought fuck it might as well just keep it going\\nI am at a point in life where I do what the fuck I wana\\nBeen consistent\\nHella driven inspiration is the chauffeur\\nI'm going in and I ain't coming back until it's over\\nWent from I don't know your name, to people acting like they know us\\nAnd now we hit the stage and shut it down until the the morning\\nGot the city on my back\\nLooking like im Quasimodo\\nKicking raps and throwing punches\\nNow the stu is like the dojo\\nWhat that mean?\\nYou say my name, you prolly pushing promo\\nNo pro-bono shows and those the pros of working like a Pro\\nGetting money, never going broke is obviously the motive\\nMy life is so important I got haters who decode it\\nThis Is me\\nIf you ain't even know it\\nNow you know it\\nYeah I am in the moment\\nGet the camera start recording\\nThis Is me\\nIf you ain't even know it\\nNow you know\\nCause I am in the moment\\nGet the camera start recording\\n\\n[Hook]\\nWhat a life\\nParadise\\nSaucing through the day and keep it drippin\\nCome alive\\nIn the Night\\nSentsane re le bale ba Pitori no lie\\nI'm so high\\nEvery time I close my eyes I end up screaming\\nWhat a life\\nParadise\\nWhat a time\\n\\n\"], ['\\n\\n[Hook: Nasty C]\\nAm I ever gonna quit?\\nHell naw\\nWill I dumb it down a bit?\\nHell naw\\nAm I running with the shit?\\nFucking right I bring the levels to this bitch\\nYou know you right my nigga\\nEver gonna quit? (hell naw)\\nHell naw\\nWill I dumb it down a bit? (hell naw)\\nHell naw\\nAm I running with the shit? (I really am)\\nFucking right I bring the levels to this bitch (it\\'s all done)\\nYou know you right\\n\\n[Verse 1: Nasty C]\\nI\\'m making music for niggas in suits and ties\\nThey all got a money and evil smile\\nThats ending conversations with the \"I\\'ll let my people call your people\" line\\nI rap for the ones still in high school\\nProbably my age and they think I\\'m cool\\nFor the little ones calling me uncle\\nShit you know I do it for the dimes too\\nI\\'m tryna find out where mind at\\nI don\\'t think I\\'m crazy I\\'m beyond that\\nEvery girl I\\'m with is either blessed or obsessed with dressing and looking like Beyoncé\\nAnd I\\'m the jiggy Jigga, yea I\\'m on that\\nThere\\'s not a thing I hate more than a contract\\nI been killing niggas since I was the kid that rushes home just to go play Mortal Kombat\\nI\\'m too wavy like a format\\nI could really bring it to your doormat\\nI don\\'t think you wanna get embarrassed by the young king\\nAh-ah, no man\\nI\\'m the leader, now just get behind me\\nYou know you like my shit, you can\\'t deny it\\nBro, I came up like boom, boom, boom, dead silence\\nSomeone get the bodies, get the bodies\\n\\n[Hook: Nasty C]\\nAm I ever gonna quit?\\nHell naw\\nWill I dumb it down a bit?\\nHell naw\\nAm I running with the shit?\\nFucking right I bring the levels to this bitch\\nYou know you right my nigga\\nEver gonna quit? (hell naw)\\nHell naw\\nWill I dumb it down a bit? (hell naw)\\nHell naw\\nAm I running with the shit? (I really am)\\nFucking right I bring the levels to this bitch (it\\'s all done)\\nYou know you right\\n\\n[Verse 2: Nasty C]\\nThe real ones listen to me when I tell my story\\nThe fakes ones always wanna write it for me\\nI never wanted to rain on your parade\\nI started doing all of this for some white Jordans\\nNow I made it, clear to the store manager nigga I want the shit delivered to me\\nIt\\'s like, all the niggas that you all praising, are just some other niggas to me\\nAnd dumbing down is a motherfucking mission for me\\nI know a couple that could use a couple lyrics from me\\nI make all of my women look into a mirror for me\\nAnd then I tell \\'em would you please pick a pillow for me\\nAh nigga would you please cry a river for me\\nPut a pistol to your head and pull the trigger for me\\nTell me do you want a kidney or a liver from me?\\nIf you hate me then why do you login to Twitter for me\\nAlright, isn\\'t this a bitch tho\\nA short nigga came and hit a switch hoe\\nI\\'m doing every day and night shift\\nJust to get it \\'cause you ain\\'t really hot until your wrist cold\\nCan somebody order me some chill tho\\nI really never ever had to chill bro\\nBut I\\'m really giving everybody chills\\nNigga chill, chill, chill\\nCan somebody get the window\\nDamn can somebody get the window\\n\\n[Hook: Nasty_C]\\nAm I ever gonna quit?\\nHell naw\\nWill I dumb it down a bit?\\nHell naw\\nAm I running with the shit?\\nFucking right I bring the levels to this bitch\\nYou know you right my nigga\\nEver gonna quit? (hell naw)\\nHell naw\\nWill I dumb it down a bit? (hell naw)\\nHell naw\\nAm I running with the shit? (I really am)\\nFucking right I bring the levels to this bitch (it\\'s all done)\\nYou know you right\\n\\n[Outro]\\nLook at all the hurdles that I overcame\\nI told em as a youngin\\' they would know the name\\nYou should pull up to the hotel, man it\\'s so insane\\nI\\'m kicking bitches out the trap house like I\\'m Tory Lanez\\nLook at Look at all the hurdles that I overcame\\nI told em as a youngin\\' they would know the name\\nYou should pull up to the hotel, shit is so insane\\nI\\'m kicking bitches out the trap house like I\\'m Tory Lanez\\nYeah, I like my girls high like standards\\nThey gotta pop like Jackson\\nThey gotta be above average\\nThey gotta take the dick like chances\\nYou know you with it with your friends that don\\'t know Jesus\\nAnd that ass thick as thieves\\nI\\'m just Adam tryna eat the apple bottom off Eve\\nI\\'m tryna inspire man, do it for the youth\\nSo I\\'mma cop a whip and say, Hell naw to the roof\\nHell naw to the the ceilings, fuck limits\\nThis ain\\'t that kitty flow so I can\\'t have you ducks in it\\nI\\'m married to the hustle man I\\'m stuck with it\\nIt\\'s Bad Hair season nigga, fuck with it\\n\\n'], ['\\n\\n[Intro]\\nYeah, yeah, that\\'s the one\\nPlastic city\\nPicture box, silver screens, static\\nOne, two\\nYeah\\n\\n[Verse 1]\\nConspiring in secrecy\\nMy ghouls drag chains and exchange theories on other spooks and black books\\nSad souls known to grab noose and hang loose\\nLay hypnotized by the tube, horrific daily news\\nEars ringing from eerie noises, empty vessels make the loudest\\nTV hosts invading living-rooms like haunted houses\\nSpewing words without content, spoken out of context\\nI breathe deep, inhale the sweet perfume of the dead\\nThe ghosts that haunt my spirit hide in mists and early showers\\nTo purify the self, I throw my fears in burning fires\\nDesperate times call desperate measures, when situation\\'s dire\\nTower over furnaces unburnt and demons cower\\nBut the world spins, or it seems to\\nWatch the heavens wonder if the gods and us can be equals\\nStars circle the planet, like followers to the Kaaba\\nUniversal inbreath directs the flow of prana\\nUnfolding cosmic sagas in the gallows\\nWhere my shadow reigns supreme\\nDiana with the bow, the protectress of all thieves\\nSteal beating hearts from chests and   leave static on the screen\\nI live in frequencies where strange schools of sorcery meet\\n\\n[Chorus]\\nTurn it on, turn it off, turn it on, turn it off\\nLet the rhythm bring peace to your bubbling heart\\nFind the inner space ignite the most cosmic of sparks\\nThe firefly that shines like the sun and lights up the dark\\nTurn it on, turn it off, turn it on, turn it off\\nMay the rhythm bring peace to your bubbling heart\\nFind the inner space ignite the most cosmic of sparks\\nThe firefly that shines like the sun and lights up the dark\\n\\n[Verse 2]\\nHark! The herald angel sings melodies on harp strings\\nRather stay blind to mass-appeal than kill the art for it\\nSo, rhyme-books, they poison with the arsenic\\nScribble lines with plots and twists confounding neurologists\\nDeepen my delirium, I write breathing little puns\\nHissing sounds as they release, purged out from brittle lungs\\nSmoking guns, my lyrics are—dense\\nThe jargon tends to give the same sensation that sinking does\\nGills artificial, navigating watery worlds\\nClouds of emotional words hang over my head like a curse\\nI dig through sentiment like rubble\\nThey say, \"Woman is a fish that shows herself most when the waters are troubled\"\\nIn this no-man\\'s-land, called Johazardous\\nProtect neck and self with magic amulets\\nSilent ancestors holding heavy hearts like Anubis\\nConsumed by anger, self-confusing who the actor is\\nOnly one stage down in the gallows\\nWhere my shadow reigns supreme\\nBeautifully hideous, I’m a savage and a beast\\nOf the stormiest of temperaments with waves of manic screams\\nBlakrok like the cornerstone in the east\\n\\n[Chorus]\\nLet the rhythm bring peace to your bubbling heart\\nFind the inner space, ignite the most cosmic of sparks\\nThe firefly that shines like the sun and lights up the dark\\nTurn it on, turn it off, turn it on, turn it off\\nMay the rhythm bring peace to your bubbling heart\\nFind the inner space, ignite the most cosmic of sparks\\nThe firefly that shines like the sun and lights up the dark\\n\\n[Outro]\\n\\n'], [\"\\n\\n[Verse 1]\\nRain trickling, window pane whistling\\nPain gripping me it's cold but it ain't Switzerland\\nI lay in\\u2005a\\u2005state, brain fizzling\\u2005away\\nStay visiting the day chasing the\\u2005sins away\\nWith a bottle of Jack Daniel's 8 feet away\\nAnd a lot back tracking I hate being this way\\nI hate being afraid when the thunder sounds like grenades\\nFloating back to '82 when we came under a raid\\nThey coming to claim the brave when the army invade\\nStray bullet from the AK made my momma a grave\\nI am hardly awake running in undergarments to spray\\nHarm me a Jake regardless what leg and arm that it takes\\nWake up in cold sweats apartment low rent\\nDazed I cover my ears like hand free phone sets\\nSolitude devours this lowly war vet\\nLike old women with no children and four pets\\nI go vex when people today protest\\nLike they ain't got freedom but fuck it, I know less\\nI know death and cold steel from cold techs\\nAnd winter nights in prison locked in a cold cell\\nBoxed and so frail dropped to the floor stressed\\nScream, the soul dressed in me got no self esteem\\nHopeless to dream, low self esteem\\nIts hopeless to dream\\n\\n[Chorus]\\nDon't be alarmed\\nOr play holier than thou\\nYou drink or smoke, it goes in my arm\\nPick your medicine\\nGod! I was a soldier before\\nNo guns but still caught in the wars, PTSD\\nNah, don't play holier than thou\\nYou drink or smoke, it goes in my arm\\nPick your medicine\\nGod! I was a soldier before\\nNo guns but still caught in the wars, PTSD\\n\\n[Verse 2]\\nI know it's a lot to swallow in a song\\nBut whole volumes come along\\nAnd roll by with no result\\nAnd folks argue when they walk\\nLike don't bother me at all\\nI won't bother you, a job is all I'm hunting for\\nAnnoyed, when they front and floss at yours\\nLike Barbie dolls in malls\\nWalking close to walls I've probably crossed the border\\nOf lost onto assault, the war's tortured result\\nThe world don't give a fuck\\nSo I throw caution to dust\\nRob most of their stuff\\nThey all sow me erupt but don't call me a thug\\nI am just forced to get buck\\nAnd pour salt in their mug start coughing it up\\nI am life's nauseous stuff\\nA veteran, hero meddle with heroine needle peddling\\nAnd it gets even better than medicine\\nPeople said that it settles evil lurking embedded deep in your shirt and the medals mean shit in the end\\nBreathe again friend the fires roar close to your gut\\nIt will cost you a heart just for you to shoulder the odds\\nBut don't be alarmed I swear being sober is hard\\nOne time I stayed a week without knowing a drop\\nNo needle pop, no weed, no pot, no illegal rocks\\nTwo weeks of job hunting I am back on the streets sloshed\\nHalf deranged, past that stage laugh at rage\\nThat's insane cast the flame, mastered pain\\nMemories flash the brain I collapse I am maimed\\n\\n[Chorus]\\nBut don't be alarmed\\nOr play holier than thou\\nYou drink or smoke, it goes in my arm\\nPick your medicine\\nGod! I was a soldier before\\nNo guns but still caught in the wars, PTSD\\nNah don't play holier than thou\\nYou drink or smoke, it goes in my arm\\nPick your medicine\\nGod! I was a soldier before\\nNo guns but still caught in the wars, PTSD\\n\\n\"]]\n"
     ]
    }
   ],
   "source": [
    "print(lyrics)"
   ]
  },
  {
   "cell_type": "code",
   "execution_count": 24,
   "metadata": {},
   "outputs": [],
   "source": [
    "import pickle\n",
    "\n",
    "for i,c in enumerate(artist_name):\n",
    "    with open(\"lyrics\"+ c + '.text', 'wb') as file:\n",
    "     pickle.dump(lyrics[i], file)\n",
    "    "
   ]
  },
  {
   "cell_type": "code",
   "execution_count": 25,
   "metadata": {},
   "outputs": [],
   "source": [
    "data={}\n",
    "for i, c in enumerate(artist_name):\n",
    "    with open('lyrics' + c + '.text', 'rb') as file:\n",
    "        data[c]=pickle.load(file)"
   ]
  },
  {
   "cell_type": "code",
   "execution_count": 26,
   "metadata": {},
   "outputs": [
    {
     "data": {
      "text/plain": [
       "dict_keys(['a_reece', 'nasty_c', 'yugen_blakrok', 'stogie_t'])"
      ]
     },
     "execution_count": 26,
     "metadata": {},
     "output_type": "execute_result"
    }
   ],
   "source": [
    "#check if data is prperly loaded\n",
    "data.keys()"
   ]
  },
  {
   "cell_type": "code",
   "execution_count": 31,
   "metadata": {},
   "outputs": [
    {
     "data": {
      "text/plain": [
       "[\"\\n\\n[Verse 1]\\nRain trickling, window pane whistling\\nPain gripping me it's cold but it ain't Switzerland\\nI lay in\\u2005a\\u2005state, brain fizzling\\u2005away\\nStay visiting the day chasing the\\u2005sins away\\nWith a bottle of Jack Daniel's 8 feet away\\nAnd a lot back tracking I hate being this way\\nI hate being afraid when the thunder sounds like grenades\\nFloating back to '82 when we came under a raid\\nThey coming to claim the brave when the army invade\\nStray bullet from the AK made my momma a grave\\nI am hardly awake running in undergarments to spray\\nHarm me a Jake regardless what leg and arm that it takes\\nWake up in cold sweats apartment low rent\\nDazed I cover my ears like hand free phone sets\\nSolitude devours this lowly war vet\\nLike old women with no children and four pets\\nI go vex when people today protest\\nLike they ain't got freedom but fuck it, I know less\\nI know death and cold steel from cold techs\\nAnd winter nights in prison locked in a cold cell\\nBoxed and so frail dropped to the floor stressed\\nScream, the soul dressed in me got no self esteem\\nHopeless to dream, low self esteem\\nIts hopeless to dream\\n\\n[Chorus]\\nDon't be alarmed\\nOr play holier than thou\\nYou drink or smoke, it goes in my arm\\nPick your medicine\\nGod! I was a soldier before\\nNo guns but still caught in the wars, PTSD\\nNah, don't play holier than thou\\nYou drink or smoke, it goes in my arm\\nPick your medicine\\nGod! I was a soldier before\\nNo guns but still caught in the wars, PTSD\\n\\n[Verse 2]\\nI know it's a lot to swallow in a song\\nBut whole volumes come along\\nAnd roll by with no result\\nAnd folks argue when they walk\\nLike don't bother me at all\\nI won't bother you, a job is all I'm hunting for\\nAnnoyed, when they front and floss at yours\\nLike Barbie dolls in malls\\nWalking close to walls I've probably crossed the border\\nOf lost onto assault, the war's tortured result\\nThe world don't give a fuck\\nSo I throw caution to dust\\nRob most of their stuff\\nThey all sow me erupt but don't call me a thug\\nI am just forced to get buck\\nAnd pour salt in their mug start coughing it up\\nI am life's nauseous stuff\\nA veteran, hero meddle with heroine needle peddling\\nAnd it gets even better than medicine\\nPeople said that it settles evil lurking embedded deep in your shirt and the medals mean shit in the end\\nBreathe again friend the fires roar close to your gut\\nIt will cost you a heart just for you to shoulder the odds\\nBut don't be alarmed I swear being sober is hard\\nOne time I stayed a week without knowing a drop\\nNo needle pop, no weed, no pot, no illegal rocks\\nTwo weeks of job hunting I am back on the streets sloshed\\nHalf deranged, past that stage laugh at rage\\nThat's insane cast the flame, mastered pain\\nMemories flash the brain I collapse I am maimed\\n\\n[Chorus]\\nBut don't be alarmed\\nOr play holier than thou\\nYou drink or smoke, it goes in my arm\\nPick your medicine\\nGod! I was a soldier before\\nNo guns but still caught in the wars, PTSD\\nNah don't play holier than thou\\nYou drink or smoke, it goes in my arm\\nPick your medicine\\nGod! I was a soldier before\\nNo guns but still caught in the wars, PTSD\\n\\n\"]"
      ]
     },
     "execution_count": 31,
     "metadata": {},
     "output_type": "execute_result"
    }
   ],
   "source": [
    "data['stogie_t']"
   ]
  },
  {
   "cell_type": "markdown",
   "metadata": {},
   "source": [
    "My dicnasty_cry is missing lyrics for songe:nastyc_snb\n",
    "                                           areece_wbkb\n",
    "                                           areece_omo\n",
    "                                           yugen_hor\n",
    "                                           yugen_gm\n",
    "                                           yugen_ma\n",
    "                                           stogie_ge\n",
    "                                           stogie_ktk\n",
    "                                           "
   ]
  },
  {
   "cell_type": "markdown",
   "metadata": {},
   "source": [
    "## Cleaning the Data"
   ]
  },
  {
   "cell_type": "code",
   "execution_count": 32,
   "metadata": {},
   "outputs": [
    {
     "data": {
      "text/plain": [
       "'a_reece'"
      ]
     },
     "execution_count": 32,
     "metadata": {},
     "output_type": "execute_result"
    }
   ],
   "source": [
    "next(iter(data.keys()))"
   ]
  },
  {
   "cell_type": "code",
   "execution_count": 33,
   "metadata": {},
   "outputs": [
    {
     "data": {
      "text/plain": [
       "[\"\\n\\n[Refrain]\\nRolling up a 8th like every day and Ma don't even know it\\nHella sick but all we sip is medication with the soda\\nSo much of it\\nThat I'm unfamiliar with being sober\\nFucking women who complain about my age because they older\\nI can't afford to pull up on my own\\nI need my soldiers\\nI can't pull up and leave the store before meeting the owner\\nI can't afford to pull up on my own\\nI need my soldiers\\nI can't pull up and leave the store before meeting the owner\\n\\n[Hook]\\nWhat a life\\nParadise\\nSaucing through the day and keep it drippin\\nCome alive\\nIn the Night\\nSentsane re le bale ba Pitori no lie\\nI'm so high\\nEvery time I close my eyes I end up screaming\\nWhat a life\\nParadise\\nWhat a time\\n\\n[Verse 1]\\nI'm living in a future I predicted somewhere back in 2011\\nWatching BET and KOTD practicing and prepping\\nWhat a dream\\nLook how I maneuver through the pressure\\nLook how they allude me to a legend\\nKnow how fearless Jody told your ass that Imma do it better\\nBack to Back yeah he's singing kinda rapper\\nThey can never put me in a box or under they umbrella\\nThey specific with the seasons I go hard from January to December\\nWhat a team..\\nAmbitiouz Entertainment till forever\\nIronic how this label got me feeling independent\\nI'm sorry but how we are always winning its intended\\nI'm paranoid, it feels like all these niggas want us dead\\nAnd now I\\nCan't afford to pull up on my own\\nI need my soldiers\\nI can't pull up and leave the store before meeting the owner\\nCan't afford to pull up on my own\\nI need my soldiers\\nI can't pull up and leave the store before meeting the owner\\n\\n[Hook]\\nWhat a life\\nParadise\\nSaucing through the day and keep it drippin\\nCome alive\\nIn the Night\\nSentsane re le bale ba Pitori no lie\\nI'm so high\\nEvery time I close my eyes I end up screaming\\nWhat a life\\nParadise\\nWhat a time\\n\\n[Verse 2]\\nI'm living in the present moment thinking bout my future e-n-deavors\\nBest believe that it'll happen if I said it on the record\\nPardon me\\nI really hope you understand the message\\nMy verses are all value buyers use this shit as leverage\\nAlways quick to move cause I was told its now or never\\nIf the weather ever changes then my reign has elevated\\nWhat a scene\\nPull up knowing that I'm highly favoured\\nLife is different here's a list of what I do from day to day\\n\\n[Refrain]\\nI'm rolling up a 8th like every day\\nMa don't even know\\nHardly sick but all we sip is medication with the soda\\nSo much of it\\nI'm unfamiliar with being sober\\nFucking women who complain about my age because they older\\nI can't afford to pull up on my own\\nI need my soldiers\\nI can't pull up and leave the store before meeting the owner\\nI can't afford to pull up on my own\\nI need my soldiers\\nI can't pull up and leave the store before meeting the owner\\n\\n[Hook]\\nWhat a life\\nParadise\\nSaucing through the day and keep it drippin\\nCome alive\\nIn the Night\\nSentsane re le bale ba Pitori no lie\\nI'm so high\\nEvery time I close my eyes I end up screaming\\nWhat a life\\nParadise\\nWhat a time\\n\\n[Verse 3]\\nI could have changed the flow but I thought fuck it might as well just keep it going\\nI am at a point in life where I do what the fuck I wana\\nBeen consistent\\nHella driven inspiration is the chauffeur\\nI'm going in and I ain't coming back until it's over\\nWent from I don't know your name, to people acting like they know us\\nAnd now we hit the stage and shut it down until the the morning\\nGot the city on my back\\nLooking like im Quasimodo\\nKicking raps and throwing punches\\nNow the stu is like the dojo\\nWhat that mean?\\nYou say my name, you prolly pushing promo\\nNo pro-bono shows and those the pros of working like a Pro\\nGetting money, never going broke is obviously the motive\\nMy life is so important I got haters who decode it\\nThis Is me\\nIf you ain't even know it\\nNow you know it\\nYeah I am in the moment\\nGet the camera start recording\\nThis Is me\\nIf you ain't even know it\\nNow you know\\nCause I am in the moment\\nGet the camera start recording\\n\\n[Hook]\\nWhat a life\\nParadise\\nSaucing through the day and keep it drippin\\nCome alive\\nIn the Night\\nSentsane re le bale ba Pitori no lie\\nI'm so high\\nEvery time I close my eyes I end up screaming\\nWhat a life\\nParadise\\nWhat a time\\n\\n\"]"
      ]
     },
     "execution_count": 33,
     "metadata": {},
     "output_type": "execute_result"
    }
   ],
   "source": [
    "next(iter(data.values()))"
   ]
  },
  {
   "cell_type": "code",
   "execution_count": 34,
   "metadata": {},
   "outputs": [],
   "source": [
    "#changing our data key to key: artist_name, value:string format\n",
    "def combine_text(list_of_text):\n",
    "    '''Take a list of text and combine them into large chunk of text.'''\n",
    "    combined_text=''.join(list_of_text)\n",
    "    return combined_text"
   ]
  },
  {
   "cell_type": "code",
   "execution_count": 35,
   "metadata": {},
   "outputs": [],
   "source": [
    "data_combined = {key:[combine_text(value)] for (key, value) in data.items()}"
   ]
  },
  {
   "cell_type": "code",
   "execution_count": 36,
   "metadata": {},
   "outputs": [
    {
     "data": {
      "text/html": [
       "<div>\n",
       "<style scoped>\n",
       "    .dataframe tbody tr th:only-of-type {\n",
       "        vertical-align: middle;\n",
       "    }\n",
       "\n",
       "    .dataframe tbody tr th {\n",
       "        vertical-align: top;\n",
       "    }\n",
       "\n",
       "    .dataframe thead th {\n",
       "        text-align: right;\n",
       "    }\n",
       "</style>\n",
       "<table border=\"1\" class=\"dataframe\">\n",
       "  <thead>\n",
       "    <tr style=\"text-align: right;\">\n",
       "      <th></th>\n",
       "      <th>lyrics</th>\n",
       "    </tr>\n",
       "  </thead>\n",
       "  <tbody>\n",
       "    <tr>\n",
       "      <th>a_reece</th>\n",
       "      <td>\\n\\n[Refrain]\\nRolling up a 8th like every day and Ma don't even know it\\nHella sick but all we sip is medication with the soda\\nSo much of it\\nTh...</td>\n",
       "    </tr>\n",
       "    <tr>\n",
       "      <th>nasty_c</th>\n",
       "      <td>\\n\\n[Hook: Nasty C]\\nAm I ever gonna quit?\\nHell naw\\nWill I dumb it down a bit?\\nHell naw\\nAm I running with the shit?\\nFucking right I bring the...</td>\n",
       "    </tr>\n",
       "    <tr>\n",
       "      <th>stogie_t</th>\n",
       "      <td>\\n\\n[Verse 1]\\nRain trickling, window pane whistling\\nPain gripping me it's cold but it ain't Switzerland\\nI lay in a state, brain fizzling away\\n...</td>\n",
       "    </tr>\n",
       "    <tr>\n",
       "      <th>yugen_blakrok</th>\n",
       "      <td>\\n\\n[Intro]\\nYeah, yeah, that's the one\\nPlastic city\\nPicture box, silver screens, static\\nOne, two\\nYeah\\n\\n[Verse 1]\\nConspiring in secrecy\\nMy...</td>\n",
       "    </tr>\n",
       "  </tbody>\n",
       "</table>\n",
       "</div>"
      ],
      "text/plain": [
       "                                                                                                                                                              lyrics\n",
       "a_reece        \\n\\n[Refrain]\\nRolling up a 8th like every day and Ma don't even know it\\nHella sick but all we sip is medication with the soda\\nSo much of it\\nTh...\n",
       "nasty_c        \\n\\n[Hook: Nasty C]\\nAm I ever gonna quit?\\nHell naw\\nWill I dumb it down a bit?\\nHell naw\\nAm I running with the shit?\\nFucking right I bring the...\n",
       "stogie_t       \\n\\n[Verse 1]\\nRain trickling, window pane whistling\\nPain gripping me it's cold but it ain't Switzerland\\nI lay in a state, brain fizzling away\\n...\n",
       "yugen_blakrok  \\n\\n[Intro]\\nYeah, yeah, that's the one\\nPlastic city\\nPicture box, silver screens, static\\nOne, two\\nYeah\\n\\n[Verse 1]\\nConspiring in secrecy\\nMy..."
      ]
     },
     "execution_count": 36,
     "metadata": {},
     "output_type": "execute_result"
    }
   ],
   "source": [
    "#converting out dictionary to a pandas dataframe\n",
    "import pandas as pd\n",
    "pd.set_option('max_colwidth', 150)\n",
    "\n",
    "data_df = pd.DataFrame.from_dict(data_combined).transpose()\n",
    "data_df.columns = ['lyrics']\n",
    "data_df =data_df.sort_index()\n",
    "data_df"
   ]
  },
  {
   "cell_type": "code",
   "execution_count": 37,
   "metadata": {},
   "outputs": [],
   "source": [
    "#importing libraries, regular expressions and string for data cleaning\n",
    "import re\n",
    "import string"
   ]
  },
  {
   "cell_type": "code",
   "execution_count": 57,
   "metadata": {},
   "outputs": [],
   "source": [
    "def clean_text(text):\n",
    "    '''Make text lower case, remove text in square brackets, remove punctuation and remove words'''\n",
    "    text = text.lower()\n",
    "    text = re.sub('\\[.*?\\n]','\\n\\n[]' '', text)\n",
    "    text = re.sub('[%s]' %  re.escape(string.punctuation), '', text)\n",
    "    text = re.sub('\\w*\\d\\w*','', text)\n",
    "    return text\n",
    "clean = lambda x: clean_text(x)"
   ]
  },
  {
   "cell_type": "code",
   "execution_count": 58,
   "metadata": {},
   "outputs": [],
   "source": [
    "#appplying the above function to clean text\n",
    "data_clean = pd.DataFrame(data_df.lyrics.apply(clean))"
   ]
  },
  {
   "cell_type": "code",
   "execution_count": 59,
   "metadata": {},
   "outputs": [
    {
     "data": {
      "text/html": [
       "<div>\n",
       "<style scoped>\n",
       "    .dataframe tbody tr th:only-of-type {\n",
       "        vertical-align: middle;\n",
       "    }\n",
       "\n",
       "    .dataframe tbody tr th {\n",
       "        vertical-align: top;\n",
       "    }\n",
       "\n",
       "    .dataframe thead th {\n",
       "        text-align: right;\n",
       "    }\n",
       "</style>\n",
       "<table border=\"1\" class=\"dataframe\">\n",
       "  <thead>\n",
       "    <tr style=\"text-align: right;\">\n",
       "      <th></th>\n",
       "      <th>lyrics</th>\n",
       "    </tr>\n",
       "  </thead>\n",
       "  <tbody>\n",
       "    <tr>\n",
       "      <th>a_reece</th>\n",
       "      <td>\\n\\nrefrain\\nrolling up a  like every day and ma dont even know it\\nhella sick but all we sip is medication with the soda\\nso much of it\\nthat im ...</td>\n",
       "    </tr>\n",
       "    <tr>\n",
       "      <th>nasty_c</th>\n",
       "      <td>\\n\\nhook nasty c\\nam i ever gonna quit\\nhell naw\\nwill i dumb it down a bit\\nhell naw\\nam i running with the shit\\nfucking right i bring the level...</td>\n",
       "    </tr>\n",
       "    <tr>\n",
       "      <th>stogie_t</th>\n",
       "      <td>\\n\\nverse \\nrain trickling window pane whistling\\npain gripping me its cold but it aint switzerland\\ni lay in a state brain fizzling away\\nstay vi...</td>\n",
       "    </tr>\n",
       "    <tr>\n",
       "      <th>yugen_blakrok</th>\n",
       "      <td>\\n\\nintro\\nyeah yeah thats the one\\nplastic city\\npicture box silver screens static\\none two\\nyeah\\n\\nverse \\nconspiring in secrecy\\nmy ghouls dra...</td>\n",
       "    </tr>\n",
       "  </tbody>\n",
       "</table>\n",
       "</div>"
      ],
      "text/plain": [
       "                                                                                                                                                              lyrics\n",
       "a_reece        \\n\\nrefrain\\nrolling up a  like every day and ma dont even know it\\nhella sick but all we sip is medication with the soda\\nso much of it\\nthat im ...\n",
       "nasty_c        \\n\\nhook nasty c\\nam i ever gonna quit\\nhell naw\\nwill i dumb it down a bit\\nhell naw\\nam i running with the shit\\nfucking right i bring the level...\n",
       "stogie_t       \\n\\nverse \\nrain trickling window pane whistling\\npain gripping me its cold but it aint switzerland\\ni lay in a state brain fizzling away\\nstay vi...\n",
       "yugen_blakrok  \\n\\nintro\\nyeah yeah thats the one\\nplastic city\\npicture box silver screens static\\none two\\nyeah\\n\\nverse \\nconspiring in secrecy\\nmy ghouls dra..."
      ]
     },
     "execution_count": 59,
     "metadata": {},
     "output_type": "execute_result"
    }
   ],
   "source": [
    "data_clean"
   ]
  },
  {
   "cell_type": "code",
   "execution_count": 96,
   "metadata": {},
   "outputs": [],
   "source": [
    "#removing additional impurities in texts like \\\n",
    "def clean_text_2(text):\n",
    "    '''Getting rid of some of the other punctuation and non-sensical text missed in the first cleaning round'''\n",
    "    text = re.sub('[''\"\",.;]', '', text)\n",
    "    text = re.sub(r' \\n\\n ', ' \\\\ ', text)\n",
    "    text = text.replace('\\n', \"\")\n",
    "    text = re.sub(r\"(?<=[a-z])\\r?\\n\",\"'[\\n\\n]', \", text)\n",
    "    return text\n",
    "clean_2 = lambda x: clean_text_2(x)"
   ]
  },
  {
   "cell_type": "code",
   "execution_count": 97,
   "metadata": {},
   "outputs": [],
   "source": [
    "data_clean = pd.DataFrame(data_clean.lyrics.apply(clean_2))"
   ]
  },
  {
   "cell_type": "code",
   "execution_count": 98,
   "metadata": {},
   "outputs": [
    {
     "data": {
      "text/html": [
       "<div>\n",
       "<style scoped>\n",
       "    .dataframe tbody tr th:only-of-type {\n",
       "        vertical-align: middle;\n",
       "    }\n",
       "\n",
       "    .dataframe tbody tr th {\n",
       "        vertical-align: top;\n",
       "    }\n",
       "\n",
       "    .dataframe thead th {\n",
       "        text-align: right;\n",
       "    }\n",
       "</style>\n",
       "<table border=\"1\" class=\"dataframe\">\n",
       "  <thead>\n",
       "    <tr style=\"text-align: right;\">\n",
       "      <th></th>\n",
       "      <th>lyrics</th>\n",
       "    </tr>\n",
       "  </thead>\n",
       "  <tbody>\n",
       "    <tr>\n",
       "      <th>a_reece</th>\n",
       "      <td>refrain rolling up a  like every day and ma dont even know it hella sick but all we sip is medication with the soda so much of it that im unfamili...</td>\n",
       "    </tr>\n",
       "    <tr>\n",
       "      <th>nasty_c</th>\n",
       "      <td>hook nasty c am i ever gonna quit hell naw will i dumb it down a bit hell naw am i running with the shit fucking right i bring the levels to this ...</td>\n",
       "    </tr>\n",
       "    <tr>\n",
       "      <th>stogie_t</th>\n",
       "      <td>verse rain trickling window pane whistling pain gripping me its cold but it aint switzerland i lay in a state brain fizzling away stay visiting th...</td>\n",
       "    </tr>\n",
       "    <tr>\n",
       "      <th>yugen_blakrok</th>\n",
       "      <td>intro yeah yeah thats the one plastic city picture box silver screens static one two yeah verse conspiring in secrecy my ghouls drag chains and ex...</td>\n",
       "    </tr>\n",
       "  </tbody>\n",
       "</table>\n",
       "</div>"
      ],
      "text/plain": [
       "                                                                                                                                                              lyrics\n",
       "a_reece        refrain rolling up a  like every day and ma dont even know it hella sick but all we sip is medication with the soda so much of it that im unfamili...\n",
       "nasty_c        hook nasty c am i ever gonna quit hell naw will i dumb it down a bit hell naw am i running with the shit fucking right i bring the levels to this ...\n",
       "stogie_t       verse rain trickling window pane whistling pain gripping me its cold but it aint switzerland i lay in a state brain fizzling away stay visiting th...\n",
       "yugen_blakrok  intro yeah yeah thats the one plastic city picture box silver screens static one two yeah verse conspiring in secrecy my ghouls drag chains and ex..."
      ]
     },
     "execution_count": 98,
     "metadata": {},
     "output_type": "execute_result"
    }
   ],
   "source": [
    "data_clean"
   ]
  },
  {
   "cell_type": "code",
   "execution_count": 99,
   "metadata": {},
   "outputs": [
    {
     "data": {
      "text/plain": [
       "'refrain rolling up a  like every day and ma dont even know it hella sick but all we sip is medication with the soda so much of it that im unfamiliar with being sober fucking women who complain about my age because they older i cant afford to pull up on my own i need my soldiers i cant pull up and leave the store before meeting the owner i cant afford to pull up on my own i need my soldiers i cant pull up and leave the store before meeting the owner hook what a life paradise saucing through the day and keep it drippin come alive in the night sentsane re le bale ba pitori no lie im so high every time i close my eyes i end up screaming what a life paradise what a time verse im living in a future i predicted somewhere back in watching bet and kotd practicing and prepping what a dream look how i maneuver through the pressure look how they allude me to a legend know how fearless jody told your ass that imma do it better back to back yeah hes singing kinda rapper they can never put me in a box or under they umbrella they specific with the seasons i go hard from january to december what a team ambitiouz entertainment till forever ironic how this label got me feeling independent im sorry but how we are always winning its intended im paranoid it feels like all these niggas want us dead and now i cant afford to pull up on my own i need my soldiers i cant pull up and leave the store before meeting the owner cant afford to pull up on my own i need my soldiers i cant pull up and leave the store before meeting the owner hook what a life paradise saucing through the day and keep it drippin come alive in the night sentsane re le bale ba pitori no lie im so high every time i close my eyes i end up screaming what a life paradise what a time verse im living in the present moment thinking bout my future endeavors best believe that itll happen if i said it on the record pardon me i really hope you understand the message my verses are all value buyers use this shit as leverage always quick to move cause i was told its now or never if the weather ever changes then my reign has elevated what a scene pull up knowing that im highly favoured life is different heres a list of what i do from day to day refrain im rolling up a  like every day ma dont even know hardly sick but all we sip is medication with the soda so much of it im unfamiliar with being sober fucking women who complain about my age because they older i cant afford to pull up on my own i need my soldiers i cant pull up and leave the store before meeting the owner i cant afford to pull up on my own i need my soldiers i cant pull up and leave the store before meeting the owner hook what a life paradise saucing through the day and keep it drippin come alive in the night sentsane re le bale ba pitori no lie im so high every time i close my eyes i end up screaming what a life paradise what a time verse i could have changed the flow but i thought fuck it might as well just keep it going i am at a point in life where i do what the fuck i wana been consistent hella driven inspiration is the chauffeur im going in and i aint coming back until its over went from i dont know your name to people acting like they know us and now we hit the stage and shut it down until the the morning got the city on my back looking like im quasimodo kicking raps and throwing punches now the stu is like the dojo what that mean you say my name you prolly pushing promo no probono shows and those the pros of working like a pro getting money never going broke is obviously the motive my life is so important i got haters who decode it this is me if you aint even know it now you know it yeah i am in the moment get the camera start recording this is me if you aint even know it now you know cause i am in the moment get the camera start recording hook what a life paradise saucing through the day and keep it drippin come alive in the night sentsane re le bale ba pitori no lie im so high every time i close my eyes i end up screaming what a life paradise what a time '"
      ]
     },
     "execution_count": 99,
     "metadata": {},
     "output_type": "execute_result"
    }
   ],
   "source": [
    "data_clean.lyrics.loc['a_reece']"
   ]
  },
  {
   "cell_type": "markdown",
   "metadata": {},
   "source": [
    "The data looks clean!!"
   ]
  },
  {
   "cell_type": "markdown",
   "metadata": {},
   "source": [
    "## Creating a Corpus"
   ]
  },
  {
   "cell_type": "code",
   "execution_count": 105,
   "metadata": {},
   "outputs": [],
   "source": [
    "#Adding a song name variable\n",
    "song_name =['paradise','hell_naw','ptsd','picture_box']\n",
    "data_df['song_name']= song_name"
   ]
  },
  {
   "cell_type": "code",
   "execution_count": 106,
   "metadata": {},
   "outputs": [
    {
     "data": {
      "text/html": [
       "<div>\n",
       "<style scoped>\n",
       "    .dataframe tbody tr th:only-of-type {\n",
       "        vertical-align: middle;\n",
       "    }\n",
       "\n",
       "    .dataframe tbody tr th {\n",
       "        vertical-align: top;\n",
       "    }\n",
       "\n",
       "    .dataframe thead th {\n",
       "        text-align: right;\n",
       "    }\n",
       "</style>\n",
       "<table border=\"1\" class=\"dataframe\">\n",
       "  <thead>\n",
       "    <tr style=\"text-align: right;\">\n",
       "      <th></th>\n",
       "      <th>lyrics</th>\n",
       "      <th>song_name</th>\n",
       "    </tr>\n",
       "  </thead>\n",
       "  <tbody>\n",
       "    <tr>\n",
       "      <th>a_reece</th>\n",
       "      <td>\\n\\n[Refrain]\\nRolling up a 8th like every day and Ma don't even know it\\nHella sick but all we sip is medication with the soda\\nSo much of it\\nTh...</td>\n",
       "      <td>paradise</td>\n",
       "    </tr>\n",
       "    <tr>\n",
       "      <th>nasty_c</th>\n",
       "      <td>\\n\\n[Hook: Nasty C]\\nAm I ever gonna quit?\\nHell naw\\nWill I dumb it down a bit?\\nHell naw\\nAm I running with the shit?\\nFucking right I bring the...</td>\n",
       "      <td>hell_naw</td>\n",
       "    </tr>\n",
       "    <tr>\n",
       "      <th>stogie_t</th>\n",
       "      <td>\\n\\n[Verse 1]\\nRain trickling, window pane whistling\\nPain gripping me it's cold but it ain't Switzerland\\nI lay in a state, brain fizzling away\\n...</td>\n",
       "      <td>ptsd</td>\n",
       "    </tr>\n",
       "    <tr>\n",
       "      <th>yugen_blakrok</th>\n",
       "      <td>\\n\\n[Intro]\\nYeah, yeah, that's the one\\nPlastic city\\nPicture box, silver screens, static\\nOne, two\\nYeah\\n\\n[Verse 1]\\nConspiring in secrecy\\nMy...</td>\n",
       "      <td>picture_box</td>\n",
       "    </tr>\n",
       "  </tbody>\n",
       "</table>\n",
       "</div>"
      ],
      "text/plain": [
       "                                                                                                                                                              lyrics  \\\n",
       "a_reece        \\n\\n[Refrain]\\nRolling up a 8th like every day and Ma don't even know it\\nHella sick but all we sip is medication with the soda\\nSo much of it\\nTh...   \n",
       "nasty_c        \\n\\n[Hook: Nasty C]\\nAm I ever gonna quit?\\nHell naw\\nWill I dumb it down a bit?\\nHell naw\\nAm I running with the shit?\\nFucking right I bring the...   \n",
       "stogie_t       \\n\\n[Verse 1]\\nRain trickling, window pane whistling\\nPain gripping me it's cold but it ain't Switzerland\\nI lay in a state, brain fizzling away\\n...   \n",
       "yugen_blakrok  \\n\\n[Intro]\\nYeah, yeah, that's the one\\nPlastic city\\nPicture box, silver screens, static\\nOne, two\\nYeah\\n\\n[Verse 1]\\nConspiring in secrecy\\nMy...   \n",
       "\n",
       "                 song_name  \n",
       "a_reece           paradise  \n",
       "nasty_c           hell_naw  \n",
       "stogie_t              ptsd  \n",
       "yugen_blakrok  picture_box  "
      ]
     },
     "execution_count": 106,
     "metadata": {},
     "output_type": "execute_result"
    }
   ],
   "source": [
    "data_df"
   ]
  },
  {
   "cell_type": "code",
   "execution_count": 107,
   "metadata": {},
   "outputs": [],
   "source": [
    "#save this corpus object for later use\n",
    "data_df.to_pickle('corpus.pkl')"
   ]
  },
  {
   "cell_type": "markdown",
   "metadata": {},
   "source": [
    "## Create a Document Term Matrix"
   ]
  },
  {
   "cell_type": "code",
   "execution_count": 108,
   "metadata": {},
   "outputs": [
    {
     "data": {
      "text/html": [
       "<div>\n",
       "<style scoped>\n",
       "    .dataframe tbody tr th:only-of-type {\n",
       "        vertical-align: middle;\n",
       "    }\n",
       "\n",
       "    .dataframe tbody tr th {\n",
       "        vertical-align: top;\n",
       "    }\n",
       "\n",
       "    .dataframe thead th {\n",
       "        text-align: right;\n",
       "    }\n",
       "</style>\n",
       "<table border=\"1\" class=\"dataframe\">\n",
       "  <thead>\n",
       "    <tr style=\"text-align: right;\">\n",
       "      <th></th>\n",
       "      <th>acting</th>\n",
       "      <th>actor</th>\n",
       "      <th>adam</th>\n",
       "      <th>afford</th>\n",
       "      <th>afraid</th>\n",
       "      <th>age</th>\n",
       "      <th>ah</th>\n",
       "      <th>ahah</th>\n",
       "      <th>aint</th>\n",
       "      <th>ak</th>\n",
       "      <th>...</th>\n",
       "      <th>working</th>\n",
       "      <th>world</th>\n",
       "      <th>worlds</th>\n",
       "      <th>wrist</th>\n",
       "      <th>write</th>\n",
       "      <th>yea</th>\n",
       "      <th>yeah</th>\n",
       "      <th>young</th>\n",
       "      <th>youngin</th>\n",
       "      <th>youth</th>\n",
       "    </tr>\n",
       "  </thead>\n",
       "  <tbody>\n",
       "    <tr>\n",
       "      <th>a_reece</th>\n",
       "      <td>1</td>\n",
       "      <td>0</td>\n",
       "      <td>0</td>\n",
       "      <td>6</td>\n",
       "      <td>0</td>\n",
       "      <td>2</td>\n",
       "      <td>0</td>\n",
       "      <td>0</td>\n",
       "      <td>3</td>\n",
       "      <td>0</td>\n",
       "      <td>...</td>\n",
       "      <td>1</td>\n",
       "      <td>0</td>\n",
       "      <td>0</td>\n",
       "      <td>0</td>\n",
       "      <td>0</td>\n",
       "      <td>0</td>\n",
       "      <td>2</td>\n",
       "      <td>0</td>\n",
       "      <td>0</td>\n",
       "      <td>0</td>\n",
       "    </tr>\n",
       "    <tr>\n",
       "      <th>nasty_c</th>\n",
       "      <td>0</td>\n",
       "      <td>0</td>\n",
       "      <td>1</td>\n",
       "      <td>0</td>\n",
       "      <td>0</td>\n",
       "      <td>1</td>\n",
       "      <td>1</td>\n",
       "      <td>1</td>\n",
       "      <td>2</td>\n",
       "      <td>0</td>\n",
       "      <td>...</td>\n",
       "      <td>0</td>\n",
       "      <td>0</td>\n",
       "      <td>0</td>\n",
       "      <td>1</td>\n",
       "      <td>1</td>\n",
       "      <td>1</td>\n",
       "      <td>1</td>\n",
       "      <td>1</td>\n",
       "      <td>2</td>\n",
       "      <td>1</td>\n",
       "    </tr>\n",
       "    <tr>\n",
       "      <th>stogie_t</th>\n",
       "      <td>0</td>\n",
       "      <td>0</td>\n",
       "      <td>0</td>\n",
       "      <td>0</td>\n",
       "      <td>1</td>\n",
       "      <td>0</td>\n",
       "      <td>0</td>\n",
       "      <td>0</td>\n",
       "      <td>2</td>\n",
       "      <td>1</td>\n",
       "      <td>...</td>\n",
       "      <td>0</td>\n",
       "      <td>1</td>\n",
       "      <td>0</td>\n",
       "      <td>0</td>\n",
       "      <td>0</td>\n",
       "      <td>0</td>\n",
       "      <td>0</td>\n",
       "      <td>0</td>\n",
       "      <td>0</td>\n",
       "      <td>0</td>\n",
       "    </tr>\n",
       "    <tr>\n",
       "      <th>yugen_blakrok</th>\n",
       "      <td>0</td>\n",
       "      <td>1</td>\n",
       "      <td>0</td>\n",
       "      <td>0</td>\n",
       "      <td>0</td>\n",
       "      <td>0</td>\n",
       "      <td>0</td>\n",
       "      <td>0</td>\n",
       "      <td>0</td>\n",
       "      <td>0</td>\n",
       "      <td>...</td>\n",
       "      <td>0</td>\n",
       "      <td>1</td>\n",
       "      <td>1</td>\n",
       "      <td>0</td>\n",
       "      <td>1</td>\n",
       "      <td>0</td>\n",
       "      <td>3</td>\n",
       "      <td>0</td>\n",
       "      <td>0</td>\n",
       "      <td>0</td>\n",
       "    </tr>\n",
       "  </tbody>\n",
       "</table>\n",
       "<p>4 rows × 741 columns</p>\n",
       "</div>"
      ],
      "text/plain": [
       "               acting  actor  adam  afford  afraid  age  ah  ahah  aint  ak  \\\n",
       "a_reece             1      0     0       6       0    2   0     0     3   0   \n",
       "nasty_c             0      0     1       0       0    1   1     1     2   0   \n",
       "stogie_t            0      0     0       0       1    0   0     0     2   1   \n",
       "yugen_blakrok       0      1     0       0       0    0   0     0     0   0   \n",
       "\n",
       "               ...  working  world  worlds  wrist  write  yea  yeah  young  \\\n",
       "a_reece        ...        1      0       0      0      0    0     2      0   \n",
       "nasty_c        ...        0      0       0      1      1    1     1      1   \n",
       "stogie_t       ...        0      1       0      0      0    0     0      0   \n",
       "yugen_blakrok  ...        0      1       1      0      1    0     3      0   \n",
       "\n",
       "               youngin  youth  \n",
       "a_reece              0      0  \n",
       "nasty_c              2      1  \n",
       "stogie_t             0      0  \n",
       "yugen_blakrok        0      0  \n",
       "\n",
       "[4 rows x 741 columns]"
      ]
     },
     "execution_count": 108,
     "metadata": {},
     "output_type": "execute_result"
    }
   ],
   "source": [
    "#Creating a document term matrix using count vectorizer and exclude stopwords\n",
    "from sklearn.feature_extraction.text import CountVectorizer\n",
    "\n",
    "cv = CountVectorizer(stop_words='english')\n",
    "data_cv = cv.fit_transform(data_clean.lyrics)\n",
    "data_dtm = pd.DataFrame(data_cv.toarray(), columns= cv.get_feature_names())\n",
    "data_dtm.index = data_clean.index\n",
    "data_dtm"
   ]
  },
  {
   "cell_type": "code",
   "execution_count": 109,
   "metadata": {},
   "outputs": [],
   "source": [
    "data_dtm.to_pickle('dtm.pkl')\n",
    "data_clean.to_pickle('data_clean.pkl')\n",
    "pickle.dump(cv, open('cv.pkl', 'wb'))"
   ]
  },
  {
   "cell_type": "code",
   "execution_count": null,
   "metadata": {},
   "outputs": [],
   "source": []
  }
 ],
 "metadata": {
  "kernelspec": {
   "display_name": "Python 3",
   "language": "python",
   "name": "python3"
  },
  "language_info": {
   "codemirror_mode": {
    "name": "ipython",
    "version": 3
   },
   "file_extension": ".py",
   "mimetype": "text/x-python",
   "name": "python",
   "nbconvert_exporter": "python",
   "pygments_lexer": "ipython3",
   "version": "3.7.6"
  }
 },
 "nbformat": 4,
 "nbformat_minor": 4
}
