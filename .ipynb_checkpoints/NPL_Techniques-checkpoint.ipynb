{
 "cells": [
  {
   "cell_type": "markdown",
   "metadata": {},
   "source": [
    "## Sentiment Analysis"
   ]
  },
  {
   "cell_type": "code",
   "execution_count": 7,
   "metadata": {},
   "outputs": [],
   "source": [
    "import pandas as pd\n",
    "import numpy as np\n",
    "import matplotlib.pyplot as plt\n",
    "%matplotlib inline"
   ]
  },
  {
   "cell_type": "code",
   "execution_count": 2,
   "metadata": {},
   "outputs": [
    {
     "data": {
      "text/html": [
       "<div>\n",
       "<style scoped>\n",
       "    .dataframe tbody tr th:only-of-type {\n",
       "        vertical-align: middle;\n",
       "    }\n",
       "\n",
       "    .dataframe tbody tr th {\n",
       "        vertical-align: top;\n",
       "    }\n",
       "\n",
       "    .dataframe thead th {\n",
       "        text-align: right;\n",
       "    }\n",
       "</style>\n",
       "<table border=\"1\" class=\"dataframe\">\n",
       "  <thead>\n",
       "    <tr style=\"text-align: right;\">\n",
       "      <th></th>\n",
       "      <th>lyrics</th>\n",
       "      <th>song_name</th>\n",
       "    </tr>\n",
       "  </thead>\n",
       "  <tbody>\n",
       "    <tr>\n",
       "      <th>a_reece</th>\n",
       "      <td>\\n\\n[Refrain]\\nRolling up a 8th like every day...</td>\n",
       "      <td>paradise</td>\n",
       "    </tr>\n",
       "    <tr>\n",
       "      <th>nasty_c</th>\n",
       "      <td>\\n\\n[Hook: Nasty C]\\nAm I ever gonna quit?\\nHe...</td>\n",
       "      <td>hell_naw</td>\n",
       "    </tr>\n",
       "    <tr>\n",
       "      <th>stogie_t</th>\n",
       "      <td>\\n\\n[Verse 1]\\nRain trickling, window pane whi...</td>\n",
       "      <td>ptsd</td>\n",
       "    </tr>\n",
       "    <tr>\n",
       "      <th>yugen_blakrok</th>\n",
       "      <td>\\n\\n[Intro]\\nYeah, yeah, that's the one\\nPlast...</td>\n",
       "      <td>picture_box</td>\n",
       "    </tr>\n",
       "  </tbody>\n",
       "</table>\n",
       "</div>"
      ],
      "text/plain": [
       "                                                          lyrics    song_name\n",
       "a_reece        \\n\\n[Refrain]\\nRolling up a 8th like every day...     paradise\n",
       "nasty_c        \\n\\n[Hook: Nasty C]\\nAm I ever gonna quit?\\nHe...     hell_naw\n",
       "stogie_t       \\n\\n[Verse 1]\\nRain trickling, window pane whi...         ptsd\n",
       "yugen_blakrok  \\n\\n[Intro]\\nYeah, yeah, that's the one\\nPlast...  picture_box"
      ]
     },
     "execution_count": 2,
     "metadata": {},
     "output_type": "execute_result"
    }
   ],
   "source": [
    "data_sent = pd.read_pickle('corpus.pkl')\n",
    "data_sent"
   ]
  },
  {
   "cell_type": "code",
   "execution_count": 3,
   "metadata": {},
   "outputs": [],
   "source": [
    "from textblob import TextBlob"
   ]
  },
  {
   "cell_type": "markdown",
   "metadata": {},
   "source": [
    "Conducting a sentiment analysis whether the rappers views are polarizing or subjective"
   ]
  },
  {
   "cell_type": "code",
   "execution_count": 4,
   "metadata": {},
   "outputs": [],
   "source": [
    "pol = lambda x: TextBlob(x).sentiment.polarity\n",
    "sub = lambda x: TextBlob(x).sentiment.subjectivity"
   ]
  },
  {
   "cell_type": "code",
   "execution_count": 5,
   "metadata": {},
   "outputs": [
    {
     "data": {
      "text/html": [
       "<div>\n",
       "<style scoped>\n",
       "    .dataframe tbody tr th:only-of-type {\n",
       "        vertical-align: middle;\n",
       "    }\n",
       "\n",
       "    .dataframe tbody tr th {\n",
       "        vertical-align: top;\n",
       "    }\n",
       "\n",
       "    .dataframe thead th {\n",
       "        text-align: right;\n",
       "    }\n",
       "</style>\n",
       "<table border=\"1\" class=\"dataframe\">\n",
       "  <thead>\n",
       "    <tr style=\"text-align: right;\">\n",
       "      <th></th>\n",
       "      <th>lyrics</th>\n",
       "      <th>song_name</th>\n",
       "      <th>polarity</th>\n",
       "      <th>subjectivity</th>\n",
       "    </tr>\n",
       "  </thead>\n",
       "  <tbody>\n",
       "    <tr>\n",
       "      <th>a_reece</th>\n",
       "      <td>\\n\\n[Refrain]\\nRolling up a 8th like every day...</td>\n",
       "      <td>paradise</td>\n",
       "      <td>0.074600</td>\n",
       "      <td>0.481463</td>\n",
       "    </tr>\n",
       "    <tr>\n",
       "      <th>nasty_c</th>\n",
       "      <td>\\n\\n[Hook: Nasty C]\\nAm I ever gonna quit?\\nHe...</td>\n",
       "      <td>hell_naw</td>\n",
       "      <td>-0.173326</td>\n",
       "      <td>0.570057</td>\n",
       "    </tr>\n",
       "    <tr>\n",
       "      <th>stogie_t</th>\n",
       "      <td>\\n\\n[Verse 1]\\nRain trickling, window pane whi...</td>\n",
       "      <td>ptsd</td>\n",
       "      <td>-0.180729</td>\n",
       "      <td>0.556354</td>\n",
       "    </tr>\n",
       "    <tr>\n",
       "      <th>yugen_blakrok</th>\n",
       "      <td>\\n\\n[Intro]\\nYeah, yeah, that's the one\\nPlast...</td>\n",
       "      <td>picture_box</td>\n",
       "      <td>-0.044843</td>\n",
       "      <td>0.514035</td>\n",
       "    </tr>\n",
       "  </tbody>\n",
       "</table>\n",
       "</div>"
      ],
      "text/plain": [
       "                                                          lyrics    song_name  \\\n",
       "a_reece        \\n\\n[Refrain]\\nRolling up a 8th like every day...     paradise   \n",
       "nasty_c        \\n\\n[Hook: Nasty C]\\nAm I ever gonna quit?\\nHe...     hell_naw   \n",
       "stogie_t       \\n\\n[Verse 1]\\nRain trickling, window pane whi...         ptsd   \n",
       "yugen_blakrok  \\n\\n[Intro]\\nYeah, yeah, that's the one\\nPlast...  picture_box   \n",
       "\n",
       "               polarity  subjectivity  \n",
       "a_reece        0.074600      0.481463  \n",
       "nasty_c       -0.173326      0.570057  \n",
       "stogie_t      -0.180729      0.556354  \n",
       "yugen_blakrok -0.044843      0.514035  "
      ]
     },
     "execution_count": 5,
     "metadata": {},
     "output_type": "execute_result"
    }
   ],
   "source": [
    "data_sent['polarity'] = data_sent['lyrics'].apply(pol)\n",
    "data_sent['subjectivity'] = data_sent['lyrics'].apply(sub)\n",
    "\n",
    "data_sent"
   ]
  },
  {
   "cell_type": "code",
   "execution_count": 9,
   "metadata": {},
   "outputs": [
    {
     "data": {
      "image/png": "[encoded data removed]",
      "text/plain": [
       "<Figure size 720x576 with 1 Axes>"
      ]
     },
     "metadata": {
      "needs_background": "light"
     },
     "output_type": "display_data"
    }
   ],
   "source": [
    "#Plotting these findings\n",
    "plt.rcParams['figure.figsize']= 10,8\n",
    "\n",
    "for index, song_name in enumerate(data_sent.index):\n",
    "    x= data_sent.polarity.loc[song_name]\n",
    "    y= data_sent.subjectivity.loc[song_name]\n",
    "    plt.scatter(x,y, color='green')\n",
    "    plt.text(x+.001, y+.001, data_sent['song_name'][index], fontsize=10)\n",
    "    plt.xlim(-0.3,.65)\n",
    "\n",
    "plt.title('Sentiment Analysis', fontsize=20)\n",
    "plt.xlabel('<--Negative-------Positive--->', fontsize=15)\n",
    "plt.ylabel('<--Facts--------Opinions--->', fontsize=15)\n",
    "plt.show();"
   ]
  },
  {
   "cell_type": "raw",
   "metadata": {},
   "source": [
    "This algorithms analyses the sentiment in text and ranks based on polarity and subjectivity of the content.\n",
    "Findings: All the rappers in these particular songs air on the side of negativity with repsect pt how polarising their content is.\n",
    "          While Stogie T and Yugen Blakrok are more raps on these particular songs are more fact based, A-Reece and Nasty C's are more opinion based"
   ]
  },
  {
   "cell_type": "code",
   "execution_count": 10,
   "metadata": {},
   "outputs": [
    {
     "data": {
      "text/html": [
       "<div>\n",
       "<style scoped>\n",
       "    .dataframe tbody tr th:only-of-type {\n",
       "        vertical-align: middle;\n",
       "    }\n",
       "\n",
       "    .dataframe tbody tr th {\n",
       "        vertical-align: top;\n",
       "    }\n",
       "\n",
       "    .dataframe thead th {\n",
       "        text-align: right;\n",
       "    }\n",
       "</style>\n",
       "<table border=\"1\" class=\"dataframe\">\n",
       "  <thead>\n",
       "    <tr style=\"text-align: right;\">\n",
       "      <th></th>\n",
       "      <th>acting</th>\n",
       "      <th>actor</th>\n",
       "      <th>adam</th>\n",
       "      <th>afford</th>\n",
       "      <th>afraid</th>\n",
       "      <th>age</th>\n",
       "      <th>ah</th>\n",
       "      <th>ahah</th>\n",
       "      <th>aint</th>\n",
       "      <th>ak</th>\n",
       "      <th>...</th>\n",
       "      <th>working</th>\n",
       "      <th>world</th>\n",
       "      <th>worlds</th>\n",
       "      <th>wrist</th>\n",
       "      <th>write</th>\n",
       "      <th>yea</th>\n",
       "      <th>yeah</th>\n",
       "      <th>young</th>\n",
       "      <th>youngin</th>\n",
       "      <th>youth</th>\n",
       "    </tr>\n",
       "  </thead>\n",
       "  <tbody>\n",
       "    <tr>\n",
       "      <th>a_reece</th>\n",
       "      <td>1</td>\n",
       "      <td>0</td>\n",
       "      <td>0</td>\n",
       "      <td>6</td>\n",
       "      <td>0</td>\n",
       "      <td>2</td>\n",
       "      <td>0</td>\n",
       "      <td>0</td>\n",
       "      <td>3</td>\n",
       "      <td>0</td>\n",
       "      <td>...</td>\n",
       "      <td>1</td>\n",
       "      <td>0</td>\n",
       "      <td>0</td>\n",
       "      <td>0</td>\n",
       "      <td>0</td>\n",
       "      <td>0</td>\n",
       "      <td>2</td>\n",
       "      <td>0</td>\n",
       "      <td>0</td>\n",
       "      <td>0</td>\n",
       "    </tr>\n",
       "    <tr>\n",
       "      <th>nasty_c</th>\n",
       "      <td>0</td>\n",
       "      <td>0</td>\n",
       "      <td>1</td>\n",
       "      <td>0</td>\n",
       "      <td>0</td>\n",
       "      <td>1</td>\n",
       "      <td>1</td>\n",
       "      <td>1</td>\n",
       "      <td>2</td>\n",
       "      <td>0</td>\n",
       "      <td>...</td>\n",
       "      <td>0</td>\n",
       "      <td>0</td>\n",
       "      <td>0</td>\n",
       "      <td>1</td>\n",
       "      <td>1</td>\n",
       "      <td>1</td>\n",
       "      <td>1</td>\n",
       "      <td>1</td>\n",
       "      <td>2</td>\n",
       "      <td>1</td>\n",
       "    </tr>\n",
       "    <tr>\n",
       "      <th>stogie_t</th>\n",
       "      <td>0</td>\n",
       "      <td>0</td>\n",
       "      <td>0</td>\n",
       "      <td>0</td>\n",
       "      <td>1</td>\n",
       "      <td>0</td>\n",
       "      <td>0</td>\n",
       "      <td>0</td>\n",
       "      <td>2</td>\n",
       "      <td>1</td>\n",
       "      <td>...</td>\n",
       "      <td>0</td>\n",
       "      <td>1</td>\n",
       "      <td>0</td>\n",
       "      <td>0</td>\n",
       "      <td>0</td>\n",
       "      <td>0</td>\n",
       "      <td>0</td>\n",
       "      <td>0</td>\n",
       "      <td>0</td>\n",
       "      <td>0</td>\n",
       "    </tr>\n",
       "    <tr>\n",
       "      <th>yugen_blakrok</th>\n",
       "      <td>0</td>\n",
       "      <td>1</td>\n",
       "      <td>0</td>\n",
       "      <td>0</td>\n",
       "      <td>0</td>\n",
       "      <td>0</td>\n",
       "      <td>0</td>\n",
       "      <td>0</td>\n",
       "      <td>0</td>\n",
       "      <td>0</td>\n",
       "      <td>...</td>\n",
       "      <td>0</td>\n",
       "      <td>1</td>\n",
       "      <td>1</td>\n",
       "      <td>0</td>\n",
       "      <td>1</td>\n",
       "      <td>0</td>\n",
       "      <td>3</td>\n",
       "      <td>0</td>\n",
       "      <td>0</td>\n",
       "      <td>0</td>\n",
       "    </tr>\n",
       "  </tbody>\n",
       "</table>\n",
       "<p>4 rows × 737 columns</p>\n",
       "</div>"
      ],
      "text/plain": [
       "               acting  actor  adam  afford  afraid  age  ah  ahah  aint  ak  \\\n",
       "a_reece             1      0     0       6       0    2   0     0     3   0   \n",
       "nasty_c             0      0     1       0       0    1   1     1     2   0   \n",
       "stogie_t            0      0     0       0       1    0   0     0     2   1   \n",
       "yugen_blakrok       0      1     0       0       0    0   0     0     0   0   \n",
       "\n",
       "               ...  working  world  worlds  wrist  write  yea  yeah  young  \\\n",
       "a_reece        ...        1      0       0      0      0    0     2      0   \n",
       "nasty_c        ...        0      0       0      1      1    1     1      1   \n",
       "stogie_t       ...        0      1       0      0      0    0     0      0   \n",
       "yugen_blakrok  ...        0      1       1      0      1    0     3      0   \n",
       "\n",
       "               youngin  youth  \n",
       "a_reece              0      0  \n",
       "nasty_c              2      1  \n",
       "stogie_t             0      0  \n",
       "yugen_blakrok        0      0  \n",
       "\n",
       "[4 rows x 737 columns]"
      ]
     },
     "execution_count": 10,
     "metadata": {},
     "output_type": "execute_result"
    }
   ],
   "source": [
    "data = pd.read_pickle('dtm_stop.pkl')\n",
    "data"
   ]
  },
  {
   "cell_type": "code",
   "execution_count": 11,
   "metadata": {},
   "outputs": [],
   "source": [
    "from gensim import matutils, models\n",
    "import scipy.sparse"
   ]
  },
  {
   "cell_type": "code",
   "execution_count": 12,
   "metadata": {},
   "outputs": [
    {
     "data": {
      "text/html": [
       "<div>\n",
       "<style scoped>\n",
       "    .dataframe tbody tr th:only-of-type {\n",
       "        vertical-align: middle;\n",
       "    }\n",
       "\n",
       "    .dataframe tbody tr th {\n",
       "        vertical-align: top;\n",
       "    }\n",
       "\n",
       "    .dataframe thead th {\n",
       "        text-align: right;\n",
       "    }\n",
       "</style>\n",
       "<table border=\"1\" class=\"dataframe\">\n",
       "  <thead>\n",
       "    <tr style=\"text-align: right;\">\n",
       "      <th></th>\n",
       "      <th>a_reece</th>\n",
       "      <th>nasty_c</th>\n",
       "      <th>stogie_t</th>\n",
       "      <th>yugen_blakrok</th>\n",
       "    </tr>\n",
       "  </thead>\n",
       "  <tbody>\n",
       "    <tr>\n",
       "      <th>acting</th>\n",
       "      <td>1</td>\n",
       "      <td>0</td>\n",
       "      <td>0</td>\n",
       "      <td>0</td>\n",
       "    </tr>\n",
       "    <tr>\n",
       "      <th>actor</th>\n",
       "      <td>0</td>\n",
       "      <td>0</td>\n",
       "      <td>0</td>\n",
       "      <td>1</td>\n",
       "    </tr>\n",
       "    <tr>\n",
       "      <th>adam</th>\n",
       "      <td>0</td>\n",
       "      <td>1</td>\n",
       "      <td>0</td>\n",
       "      <td>0</td>\n",
       "    </tr>\n",
       "    <tr>\n",
       "      <th>afford</th>\n",
       "      <td>6</td>\n",
       "      <td>0</td>\n",
       "      <td>0</td>\n",
       "      <td>0</td>\n",
       "    </tr>\n",
       "    <tr>\n",
       "      <th>afraid</th>\n",
       "      <td>0</td>\n",
       "      <td>0</td>\n",
       "      <td>1</td>\n",
       "      <td>0</td>\n",
       "    </tr>\n",
       "    <tr>\n",
       "      <th>...</th>\n",
       "      <td>...</td>\n",
       "      <td>...</td>\n",
       "      <td>...</td>\n",
       "      <td>...</td>\n",
       "    </tr>\n",
       "    <tr>\n",
       "      <th>yea</th>\n",
       "      <td>0</td>\n",
       "      <td>1</td>\n",
       "      <td>0</td>\n",
       "      <td>0</td>\n",
       "    </tr>\n",
       "    <tr>\n",
       "      <th>yeah</th>\n",
       "      <td>2</td>\n",
       "      <td>1</td>\n",
       "      <td>0</td>\n",
       "      <td>3</td>\n",
       "    </tr>\n",
       "    <tr>\n",
       "      <th>young</th>\n",
       "      <td>0</td>\n",
       "      <td>1</td>\n",
       "      <td>0</td>\n",
       "      <td>0</td>\n",
       "    </tr>\n",
       "    <tr>\n",
       "      <th>youngin</th>\n",
       "      <td>0</td>\n",
       "      <td>2</td>\n",
       "      <td>0</td>\n",
       "      <td>0</td>\n",
       "    </tr>\n",
       "    <tr>\n",
       "      <th>youth</th>\n",
       "      <td>0</td>\n",
       "      <td>1</td>\n",
       "      <td>0</td>\n",
       "      <td>0</td>\n",
       "    </tr>\n",
       "  </tbody>\n",
       "</table>\n",
       "<p>737 rows × 4 columns</p>\n",
       "</div>"
      ],
      "text/plain": [
       "         a_reece  nasty_c  stogie_t  yugen_blakrok\n",
       "acting         1        0         0              0\n",
       "actor          0        0         0              1\n",
       "adam           0        1         0              0\n",
       "afford         6        0         0              0\n",
       "afraid         0        0         1              0\n",
       "...          ...      ...       ...            ...\n",
       "yea            0        1         0              0\n",
       "yeah           2        1         0              3\n",
       "young          0        1         0              0\n",
       "youngin        0        2         0              0\n",
       "youth          0        1         0              0\n",
       "\n",
       "[737 rows x 4 columns]"
      ]
     },
     "execution_count": 12,
     "metadata": {},
     "output_type": "execute_result"
    }
   ],
   "source": [
    "#To enable long format we transpose the data\n",
    "tdm = data.transpose()\n",
    "tdm"
   ]
  },
  {
   "cell_type": "code",
   "execution_count": 13,
   "metadata": {},
   "outputs": [],
   "source": [
    "#putting the new tdm into a genism format, from dataframe to sparse matrix to genism corpus\n",
    "sparse_counts =scipy.sparse.csr_matrix(tdm)\n",
    "corpus = matutils.Sparse2Corpus(sparse_counts)"
   ]
  },
  {
   "cell_type": "code",
   "execution_count": 14,
   "metadata": {},
   "outputs": [],
   "source": [
    "import pickle"
   ]
  },
  {
   "cell_type": "code",
   "execution_count": 15,
   "metadata": {},
   "outputs": [],
   "source": [
    "# Gensim also requires dictionary of the all terms and their respective location in the term-document matrix\n",
    "cv =pickle.load(open('cv_stop.pkl','rb'))\n",
    "id2word = dict((v,k) for k, v in cv.vocabulary_.items())"
   ]
  },
  {
   "cell_type": "code",
   "execution_count": 20,
   "metadata": {},
   "outputs": [
    {
     "data": {
      "text/plain": [
       "[(0,\n",
       "  '0.028*\"turn\" + 0.012*\"cosmic\" + 0.009*\"heart\" + 0.009*\"lights\" + 0.009*\"peace\" + 0.009*\"sun\" + 0.009*\"inner\" + 0.009*\"shines\" + 0.009*\"dark\" + 0.009*\"firefly\"'),\n",
       " (1,\n",
       "  '0.038*\"hell\" + 0.038*\"naw\" + 0.023*\"right\" + 0.019*\"shit\" + 0.015*\"nigga\" + 0.014*\"really\" + 0.014*\"bitch\" + 0.012*\"running\" + 0.012*\"fucking\" + 0.012*\"gonna\"'),\n",
       " (2,\n",
       "  '0.027*\"pull\" + 0.023*\"life\" + 0.017*\"day\" + 0.017*\"time\" + 0.017*\"paradise\" + 0.012*\"leave\" + 0.012*\"store\" + 0.012*\"meeting\" + 0.012*\"afford\" + 0.012*\"soldiers\"'),\n",
       " (3,\n",
       "  '0.001*\"verse\" + 0.001*\"stage\" + 0.001*\"thats\" + 0.001*\"say\" + 0.001*\"flow\" + 0.001*\"dead\" + 0.001*\"women\" + 0.001*\"day\" + 0.001*\"shit\" + 0.001*\"people\"'),\n",
       " (4,\n",
       "  '0.018*\"dont\" + 0.011*\"cold\" + 0.011*\"medicine\" + 0.011*\"wars\" + 0.011*\"arm\" + 0.009*\"guns\" + 0.009*\"play\" + 0.009*\"pick\" + 0.009*\"god\" + 0.009*\"goes\"')]"
      ]
     },
     "execution_count": 20,
     "metadata": {},
     "output_type": "execute_result"
    }
   ],
   "source": [
    "#specifying these parameters\n",
    "lda= models.LdaModel(corpus=corpus, id2word=id2word, num_topics=5, passes=10000)\n",
    "lda.print_topics()"
   ]
  },
  {
   "cell_type": "raw",
   "metadata": {},
   "source": [
    "Topic modelling tries to find the gist of what the text is trying to relay.\n",
    "Some Topics:\n",
    "            First topic seems to be about cosmos, and nature(Yugen Blakrok)\n",
    "            second one is about just swearing(Nasty C)\n",
    "            third topic is about enjoying life, shopping(A-Reeece)\n",
    "            fourth one maybe about death, women (it is very varried)\n",
    "            fifth one is about a fight or war of some sort, mental by the looks of it(Stogie T)\n",
    "            \n"
   ]
  }
 ],
 "metadata": {
  "kernelspec": {
   "display_name": "Python 3",
   "language": "python",
   "name": "python3"
  },
  "language_info": {
   "codemirror_mode": {
    "name": "ipython",
    "version": 3
   },
   "file_extension": ".py",
   "mimetype": "text/x-python",
   "name": "python",
   "nbconvert_exporter": "python",
   "pygments_lexer": "ipython3",
   "version": "3.7.6"
  }
 },
 "nbformat": 4,
 "nbformat_minor": 4
}
